{
 "cells": [
  {
   "cell_type": "code",
   "execution_count": 1,
   "metadata": {},
   "outputs": [],
   "source": [
    "import pandas as pd"
   ]
  },
  {
   "cell_type": "code",
   "execution_count": 2,
   "metadata": {},
   "outputs": [],
   "source": [
    "def count_top_3(years):\n",
    "    y_list = []\n",
    "    for year in years:\n",
    "        y_list.append(pd.read_csv(f'names/yob{year}.txt', names=['name', 'gender', 'quantity']))\n",
    "    years = pd.concat(y_list)\n",
    "    res = years.groupby(['name', 'gender']).sum()[['quantity']]\n",
    "    res.sort_values('quantity', inplace=True, ascending=False)\n",
    "    res = res[:3]\n",
    "    return res"
   ]
  },
  {
   "cell_type": "code",
   "execution_count": 3,
   "metadata": {},
   "outputs": [],
   "source": [
    "def count_dynamic(years):\n",
    "    res = {'F': [], 'M': []}\n",
    "    for year in years:\n",
    "        y = pd.read_csv(f'names/yob{year}.txt', names=['name', 'gender', 'quantity'])\n",
    "        q = y['gender'].value_counts()\n",
    "        res['M'].append(q['M'])\n",
    "        res['F'].append(q['F'])\n",
    "    return res"
   ]
  }
 ],
 "metadata": {
  "kernelspec": {
   "display_name": "Python 3",
   "language": "python",
   "name": "python3"
  },
  "language_info": {
   "codemirror_mode": {
    "name": "ipython",
    "version": 3
   },
   "file_extension": ".py",
   "mimetype": "text/x-python",
   "name": "python",
   "nbconvert_exporter": "python",
   "pygments_lexer": "ipython3",
   "version": "3.7.6"
  }
 },
 "nbformat": 4,
 "nbformat_minor": 4
}
